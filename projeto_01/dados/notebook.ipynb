{
 "cells": [
  {
   "cell_type": "code",
   "execution_count": 7,
   "metadata": {},
   "outputs": [
    {
     "name": "stdout",
     "output_type": "stream",
     "text": [
      "Estudantes com mais de 20 anos:\n"
     ]
    },
    {
     "name": "stderr",
     "output_type": "stream",
     "text": [
      "25/04/02 00:36:06 WARN GarbageCollectionMetrics: To enable non-built-in garbage collector(s) List(G1 Concurrent GC), users should configure it(them) to spark.eventLog.gcMetrics.youngGenerationGarbageCollectors or spark.eventLog.gcMetrics.oldGenerationGarbageCollectors\n"
     ]
    },
    {
     "name": "stdout",
     "output_type": "stream",
     "text": [
      "+-----+-----+----------+\n",
      "| Nome|Idade|     Curso|\n",
      "+-----+-----+----------+\n",
      "|Pedro|   22|    Física|\n",
      "|Lucas|   21|  Biologia|\n",
      "| João|   22|Matemática|\n",
      "+-----+-----+----------+\n",
      "\n",
      "Número de estudantes por curso:\n"
     ]
    },
    {
     "name": "stderr",
     "output_type": "stream",
     "text": [
      "                                                                                \r"
     ]
    },
    {
     "name": "stdout",
     "output_type": "stream",
     "text": [
      "+----------+-----+\n",
      "|     Curso|Total|\n",
      "+----------+-----+\n",
      "|    Física|    1|\n",
      "|Matemática|    2|\n",
      "|  Biologia|    1|\n",
      "|   Química|    1|\n",
      "+----------+-----+\n",
      "\n",
      "Idade média dos estudantes:\n",
      "+----------+\n",
      "|IdadeMedia|\n",
      "+----------+\n",
      "|      20.8|\n",
      "+----------+\n",
      "\n"
     ]
    }
   ],
   "source": [
    "from pyspark.sql import SparkSession\n",
    "\n",
    "# Criar uma sessão Spark\n",
    "spark = SparkSession.builder \\\n",
    "    .appName(\"Exemplo Spark SQL\") \\\n",
    "        .getOrCreate()\n",
    "\n",
    "        #Criar um conjunto de dados fictício sobre estudantes\n",
    "data = [\n",
    "    (\"Ana\",20,\"Matemática\"),\n",
    "    (\"Pedro\", 22, \"Física\"),\n",
    "    (\"Maria\", 19, \"Química\"),\n",
    "    (\"Lucas\", 21, \"Biologia\"),\n",
    "    (\"João\", 22, \"Matemática\")\n",
    "]\n",
    "\n",
    "    # Definir os nomes das colunas\n",
    "columns = [\"Nome\",\"Idade\",\"Curso\"]\n",
    "\n",
    "# Criar um DataFrame\n",
    "df = spark.createDataFrame(data, columns)\n",
    "\n",
    "#Registrar o DataFrame como uma tabela temporária\n",
    "df.createOrReplaceTempView(\"Estudantes\")\n",
    "\n",
    "#Executar consultas SQL\n",
    "print(\"Estudantes com mais de 20 anos:\")\n",
    "spark.sql(\"SELECT * FROM Estudantes WHERE Idade > 20\").show()\n",
    "\n",
    "print(\"Número de estudantes por curso:\")\n",
    "spark.sql(\"SELECT Curso, COUNT(*) AS Total FROM Estudantes GROUP BY Curso\").show()\n",
    "\n",
    "print(\"Idade média dos estudantes:\")\n",
    "spark.sql(\"SELECT AVG(Idade) AS IdadeMedia FROM Estudantes\").show()\n",
    "\n",
    "# Encerrar a sessão Spark\n",
    "spark.stop()"
   ]
  }
 ],
 "metadata": {
  "kernelspec": {
   "display_name": "Python 3",
   "language": "python",
   "name": "python3"
  },
  "language_info": {
   "codemirror_mode": {
    "name": "ipython",
    "version": 3
   },
   "file_extension": ".py",
   "mimetype": "text/x-python",
   "name": "python",
   "nbconvert_exporter": "python",
   "pygments_lexer": "ipython3",
   "version": "3.12.1"
  }
 },
 "nbformat": 4,
 "nbformat_minor": 2
}
