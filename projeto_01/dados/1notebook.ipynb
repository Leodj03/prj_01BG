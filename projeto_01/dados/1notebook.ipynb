{
 "cells": [
  {
   "cell_type": "code",
   "execution_count": 1,
   "id": "e9743f42",
   "metadata": {},
   "outputs": [
    {
     "name": "stderr",
     "output_type": "stream",
     "text": [
      "25/04/11 02:46:28 WARN Utils: Your hostname, codespaces-738dd6 resolves to a loopback address: 127.0.0.1; using 10.0.1.7 instead (on interface eth0)\n",
      "25/04/11 02:46:28 WARN Utils: Set SPARK_LOCAL_IP if you need to bind to another address\n",
      "Setting default log level to \"WARN\".\n",
      "To adjust logging level use sc.setLogLevel(newLevel). For SparkR, use setLogLevel(newLevel).\n",
      "25/04/11 02:46:28 WARN NativeCodeLoader: Unable to load native-hadoop library for your platform... using builtin-java classes where applicable\n"
     ]
    },
    {
     "name": "stdout",
     "output_type": "stream",
     "text": [
      "['notebook.ipynb', 'vendas.csv', '1notebook.ipynb']\n",
      "+----------+------------+-----------+\n",
      "|id_cliente|valor_compra|data_compra|\n",
      "+----------+------------+-----------+\n",
      "|       101|       250.5| 2023-01-15|\n",
      "|       102|       120.0| 2023-02-10|\n",
      "|       103|       330.0| 2022-11-22|\n",
      "|       104|       90.25| 2023-03-18|\n",
      "|       105|       870.0| 2022-05-09|\n",
      "|       106|      310.75| 2021-12-30|\n",
      "|       107|       450.0| 2021-07-12|\n",
      "|       108|       600.0| 2023-01-05|\n",
      "|       109|      199.99| 2022-08-23|\n",
      "|       110|      1000.0| 2021-10-10|\n",
      "+----------+------------+-----------+\n",
      "\n",
      "+----------+------------+-----------+\n",
      "|id_cliente|valor_compra|data_compra|\n",
      "+----------+------------+-----------+\n",
      "|       110|      1000.0| 2021-10-10|\n",
      "|       105|       870.0| 2022-05-09|\n",
      "|       108|       600.0| 2023-01-05|\n",
      "|       107|       450.0| 2021-07-12|\n",
      "|       103|       330.0| 2022-11-22|\n",
      "|       106|      310.75| 2021-12-30|\n",
      "|       101|       250.5| 2023-01-15|\n",
      "|       109|      199.99| 2022-08-23|\n",
      "|       102|       120.0| 2023-02-10|\n",
      "|       104|       90.25| 2023-03-18|\n",
      "+----------+------------+-----------+\n",
      "\n",
      "+----+------------+\n",
      "| ano|total_vendas|\n",
      "+----+------------+\n",
      "|2021|     1760.75|\n",
      "|2022|     1399.99|\n",
      "|2023|     1060.75|\n",
      "+----+------------+\n",
      "\n"
     ]
    }
   ],
   "source": [
    "import os\n",
    "from pyspark.sql import SparkSession\n",
    "from pyspark.sql.functions import year, to_date, col, sum as _sum\n",
    "\n",
    "with open(\"vendas.csv\", \"w\") as f:\n",
    "    f.write(\"id_cliente,valor_compra,data_compra\\n\")\n",
    "    f.write(\"101,250.50,2023-01-15\\n\")\n",
    "    f.write(\"102,120.00,2023-02-10\\n\")\n",
    "    f.write(\"103,330.00,2022-11-22\\n\")\n",
    "    f.write(\"104,90.25,2023-03-18\\n\")\n",
    "    f.write(\"105,870.00,2022-05-09\\n\")\n",
    "    f.write(\"106,310.75,2021-12-30\\n\")\n",
    "    f.write(\"107,450.00,2021-07-12\\n\")\n",
    "    f.write(\"108,600.00,2023-01-05\\n\")\n",
    "    f.write(\"109,199.99,2022-08-23\\n\")\n",
    "    f.write(\"110,1000.00,2021-10-10\\n\")\n",
    "\n",
    "spark = SparkSession.builder.appName(\"DesafioFinalVendas\").getOrCreate()\n",
    "\n",
    "print(os.listdir('.'))\n",
    "\n",
    "caminho_arquivo = \"./vendas.csv\"\n",
    "\n",
    "if not os.path.exists(caminho_arquivo):\n",
    "    print(f\"Erro: Arquivo '{caminho_arquivo}' não encontrado.\")\n",
    "else:\n",
    "    df_vendas = spark.read.csv(caminho_arquivo, header=True, inferSchema=True)\n",
    "    df_vendas.show()\n",
    "    df_vendas.orderBy(col(\"valor_compra\").desc()).show()\n",
    "    df_vendas = df_vendas.withColumn(\"ano\", year(to_date(\"data_compra\", \"yyyy-MM-dd\")))\n",
    "    df_vendas_ano = df_vendas.groupBy(\"ano\").agg(_sum(\"valor_compra\").alias(\"total_vendas\"))\n",
    "    df_vendas_ano.orderBy(\"ano\").show()\n",
    "    df_vendas_ano.write.csv(\"resultado_vendas_por_ano.csv\", header=True)\n",
    "\n",
    "spark.stop()\n"
   ]
  }
 ],
 "metadata": {
  "kernelspec": {
   "display_name": "Python 3",
   "language": "python",
   "name": "python3"
  },
  "language_info": {
   "codemirror_mode": {
    "name": "ipython",
    "version": 3
   },
   "file_extension": ".py",
   "mimetype": "text/x-python",
   "name": "python",
   "nbconvert_exporter": "python",
   "pygments_lexer": "ipython3",
   "version": "3.12.1"
  }
 },
 "nbformat": 4,
 "nbformat_minor": 5
}
